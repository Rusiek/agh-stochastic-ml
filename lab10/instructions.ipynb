{
 "cells": [
  {
   "cell_type": "markdown",
   "metadata": {},
   "source": [
    "## Differential Evolution"
   ]
  },
  {
   "cell_type": "markdown",
   "metadata": {},
   "source": [
    "In this session, we will discover how Differential Evolution (DE) works. We will explore the underlying principles, implement core components from scratch, apply DE to classic benchmark functions, visualize its dynamics through a generated GIF, and tackle constraints."
   ]
  },
  {
   "cell_type": "code",
   "execution_count": 6,
   "metadata": {},
   "outputs": [],
   "source": [
    "import numpy as np\n",
    "import matplotlib.pyplot as plt\n",
    "from matplotlib import animatio\n",
    "from typing import Callable\n",
    "from dataclasses import dataclass"
   ]
  },
  {
   "cell_type": "markdown",
   "metadata": {},
   "source": [
    "### Optimization Problems\n",
    "\n",
    "This cell defines three common benchmark functions, Sphere, Rosenbrock, and Rastrigin, used to test optimization algorithms. We also used these functions earlier to evaluate Adam, Momentum, and CMA-ES."
   ]
  },
  {
   "cell_type": "code",
   "execution_count": 37,
   "metadata": {},
   "outputs": [],
   "source": [
    "def sphere(x: np.ndarray) -> float:\n",
    "    return float(np.sum(x**2))\n",
    "\n",
    "\n",
    "def rosenbrock(x: np.ndarray) -> float:\n",
    "    return float(np.sum(100.0 * (x[1:] - x[:-1] ** 2.0) ** 2.0 + (1.0 - x[:-1]) ** 2.0))\n",
    "\n",
    "\n",
    "def rastrigin(x: np.ndarray) -> float:\n",
    "    A: float = 10.0\n",
    "    return float(A * len(x) + np.sum(x**2 - A * np.cos(2 * np.pi * x)))\n",
    "\n",
    "BOUNDS = [(-5, 5), (-5, 5)]"
   ]
  },
  {
   "cell_type": "markdown",
   "metadata": {},
   "source": [
    "### Differential Evolution\n",
    "\n",
    "Differential Evolution is a simple yet powerful **population-based search algorithm** for continuous optimization. At every iteration it maintains a population of $pop\\_size$ candidate solutions, each an $n$-dimensional real-valued vector. Three straightforward operators: mutation, crossover, and selection, are applied to push the population toward regions of lower objective value.\n",
    "\n",
    "#### 1. Initialisation  \n",
    "Randomly sample $pop\\_size$ vectors inside the problem's bounds.\n",
    "\n",
    "#### 2. Mutation  \n",
    "For each target vector $x_i$:\n",
    "\n",
    "1. Select three distinct solutions $a$, $b$, $c$ (none equal to $x_i$) from current population.  \n",
    "2. Create the mutant  \n",
    "   $$v = a + F\\,(b - c)$$\n",
    "   where $F \\in (0.4,1^+)$ is the scaling factor. The difference $(b-c)$ supplies direction and scale; $F$ stretches or shrinks the step.\n",
    "\n",
    "#### 3. Crossover  \n",
    "Blend the mutant $v$ with its target $x_i$ to form the trial vector \\(u\\):\n",
    "\n",
    "- For each coordinate $j$, copy $v_j$ into $u_j$ with probability $CR$; otherwise copy $x_{i,j}$.  \n",
    "- Force at least one coordinate to come from $v$ so that $u \\neq x_i$.\n",
    "\n",
    "Here $CR \\in [0,1]$ is the *crossover rate*: higher $CR$ means aggressive mixing; lower $CR$ leaves the mutant mostly intact.\n",
    "\n",
    "#### 4. Selection  \n",
    "Evaluate the objective $f(\\cdot)$: $u \\text{ replaces } x_i \\quad \\text{if} \\quad f(u) < f(x_i)$\n",
    "\n",
    "Greedy replacement ensures the population not deteriorates.\n",
    "\n",
    "#### 5. Iteration & Termination  \n",
    "After every target has produced a trial and selection is done, the new population is complete. Repeat until a generation limit, a fitness threshold, or a stall criterion is reached.\n",
    "\n",
    "#### 6. Parameter intuition  \n",
    "\n",
    "| Parameter | Typical range |\n",
    "|-----------|---------------|\n",
    "| Differential weight \\(F\\) | 0.4 – 1.0 |\n",
    "| Crossover rate \\(CR\\)     | 0.1 – 0.9 |\n",
    "| Population size \\(P\\)     | $5n$ – $10n$ |"
   ]
  },
  {
   "cell_type": "code",
   "execution_count": 17,
   "metadata": {},
   "outputs": [],
   "source": [
    "@dataclass\n",
    "class DEResult:\n",
    "    best_vector: np.ndarray\n",
    "    best_value: float\n",
    "    history: list[np.ndarray] # History of populations for animation\n",
    "\n",
    "\n",
    "def differential_evolution(\n",
    "    func: Callable[[np.ndarray], float],\n",
    "    bounds: list[tuple[float, float]] = BOUNDS,\n",
    "    pop_size: int = 50,\n",
    "    F: float = 0.8,\n",
    "    CR: float = 0.9,\n",
    "    max_gen: int = 100,\n",
    ") -> DEResult:\n",
    "    \"\"\"\n",
    "    Implements the Differential Evolution algorithm for global optimization.\n",
    "\n",
    "    Parameters:\n",
    "        func: Objective function to minimize. Takes a numpy array and returns a float.\n",
    "        bounds: list of (min, max) pairs for each dimension.\n",
    "        pop_size: Number of individuals in the population.\n",
    "        F: Mutation factor (typically in [0.4, 1.0]).\n",
    "        CR: Crossover rate (typically in [0, 1]).\n",
    "        max_gen: Maximum number of generations to evolve.\n",
    "    \"\"\"\n",
    "    raise NotImplementedError(\"Not implemented\")\n",
    "    dimensions = len(bounds)\n",
    "    lower_bounds = np.array([b[0] for b in bounds])\n",
    "    upper_bounds = np.array([b[1] for b in bounds])\n",
    "    \n",
    "    # --- TODO: Exercise 1 - Initialization ---\n",
    "    # Initialize the population: Create pop_size individuals.\n",
    "    # Each individual is a vector of 'dimensions' length.\n",
    "    # Use uniform distribution to sample the initial population.\n",
    "    # --- End Exercise 1 ---\n",
    "\n",
    "    for generation in range(max_gen):\n",
    "        ...\n",
    "\n",
    "        for i in range(pop_size):\n",
    "            ...\n",
    "            \n",
    "            # --- TODO: Exercise 2 - Mutation ---\n",
    "            # Select three distinct random individuals (a, b, c) from the population,\n",
    "            # different from the current target_vector at index i.\n",
    "            # Ensure indices are unique and not equal to i.\n",
    "            # Create the mutant vector: v = a + F * (b - c)\n",
    "            # Handle boundary constraints for the mutant vector.\n",
    "            # --- End Exercise 2 ---\n",
    "\n",
    "            # --- TODO: Exercise 3 - Crossover ---\n",
    "            # Create the trial vector by performing crossover between the target_vector and the mutant_vector.\n",
    "            # For each dimension j:\n",
    "            #   Pick a random number r from [0,1).\n",
    "            #   If r < CR or j == j_rand (where j_rand is a randomly chosen dimension index),\n",
    "            #     trial_vector[j] = mutant_vector[j]\n",
    "            #   Else:\n",
    "            #     trial_vector[j] = target_vector[j]\n",
    "            # Ensure at least one dimension comes from the mutant vector (j_rand ensures this).\n",
    "            # --- End Exercise 3 ---\n",
    "            \n",
    "            # --- TODO: Exercise 4 - Selection ---\n",
    "            # Evaluate the trial vector.\n",
    "            # If the trial vector is better than or equal to the target vector,\n",
    "            #   replace the target vector with the trial vector in the new_population and update its fitness.\n",
    "            # Else, keep the target vector.\n",
    "            # --- End Exercise 4 ---"
   ]
  },
  {
   "cell_type": "markdown",
   "metadata": {},
   "source": [
    "### Test implemented DE"
   ]
  },
  {
   "cell_type": "code",
   "execution_count": null,
   "metadata": {},
   "outputs": [],
   "source": [
    "result = differential_evolution(sphere, bounds=BOUNDS, pop_size=50)"
   ]
  },
  {
   "cell_type": "markdown",
   "metadata": {},
   "source": [
    "### Visualizing Search Dynamics"
   ]
  },
  {
   "cell_type": "code",
   "execution_count": 34,
   "metadata": {},
   "outputs": [],
   "source": [
    "def animate_de(\n",
    "    func: Callable[[np.ndarray], float],\n",
    "    history: list[np.ndarray],\n",
    "    bounds: list[tuple[float, float]] = BOUNDS,\n",
    "    frames: int | None = None,\n",
    "    filename: str = \"de_animation.gif\",\n",
    ") -> None:\n",
    "    \"\"\"\n",
    "    Creates and saves a GIF showing how the DE population moves over generations.\n",
    "    \"\"\"\n",
    "    if frames is None:\n",
    "        frames = len(history)\n",
    "\n",
    "    assert len(bounds) == 2, \"This function only supports 2D visualization (expected 2 bounds).\"\n",
    "    x_bounds = (bounds[0][0], bounds[0][1])\n",
    "    y_bounds = (bounds[1][0], bounds[1][1])\n",
    "\n",
    "    x = np.linspace(x_bounds[0], x_bounds[1], 200)\n",
    "    y = np.linspace(y_bounds[0], y_bounds[1], 200)\n",
    "    X, Y = np.meshgrid(x, y)\n",
    "    coords = np.vstack([X.ravel(), Y.ravel()]).T\n",
    "    Z = np.array([func(pt) for pt in coords]).reshape(X.shape)\n",
    "\n",
    "    fig, ax = plt.subplots(figsize=(8, 6))\n",
    "    contour = ax.contourf(X, Y, Z, levels=20, cmap=\"viridis\")\n",
    "    fig.colorbar(contour, ax=ax)\n",
    "    \n",
    "    def init():\n",
    "        scatter = ax.scatter([], [], s=20, color=\"red\")\n",
    "        return (scatter,)\n",
    "    \n",
    "    def update(i: int):\n",
    "        ax.set_title(f\"Generation {i}\")\n",
    "        pop = history[i]\n",
    "        scatter = ax.scatter(pop[:, 0], pop[:, 1], s=20, color=\"red\")\n",
    "        return (scatter,)\n",
    "    \n",
    "    ax.set_xlim(x_bounds[0], x_bounds[1])\n",
    "    ax.set_ylim(y_bounds[0], y_bounds[1])\n",
    "    \n",
    "    anim = animation.FuncAnimation(\n",
    "        fig, update, init_func=init, frames=frames, interval=200, blit=True\n",
    "    )\n",
    "    \n",
    "    writer = animation.PillowWriter(fps=5)\n",
    "    anim.save(filename, writer=writer)\n",
    "    plt.close(fig)\n",
    "    print(f\"Animation saved to {filename}\")"
   ]
  },
  {
   "cell_type": "code",
   "execution_count": null,
   "metadata": {},
   "outputs": [],
   "source": [
    "animate_de(func=sphere, history=result.history)"
   ]
  },
  {
   "cell_type": "markdown",
   "metadata": {},
   "source": [
    "### Experiments\n",
    "Run DE on all three problems: Sphere, Rosenbrock and Rastrigin. For each problem:\n",
    "- Generate and analyze convergence plots showing the progression of the best fitness value over iterations.\n",
    "- Visualize the population dynamics over time to illustrate how the search space is explored and exploited."
   ]
  },
  {
   "cell_type": "code",
   "execution_count": null,
   "metadata": {},
   "outputs": [],
   "source": []
  },
  {
   "cell_type": "markdown",
   "metadata": {},
   "source": [
    "### Hyperparameters in Differential Evolution\n",
    "\n",
    "Analyze the role and impact of the two key hyperparameters in Differential Evolution: the scaling factor ($F$) and the crossover rate ($CR$).\n",
    "- What is the primary purpose of each hyperparameter in the context of the DE algorithm?\n",
    "- How do variations in their values influence the algorithm’s exploration and exploitation behavior?\n",
    "- Provide examples or illustrations, if possible, to support your analysis."
   ]
  },
  {
   "cell_type": "code",
   "execution_count": null,
   "metadata": {},
   "outputs": [],
   "source": []
  },
  {
   "cell_type": "markdown",
   "metadata": {},
   "source": [
    "### SHADE: Success-History Based Adaptive Differential Evolution\n",
    "\n",
    "SHADE is an advanced variant of DE designed to enhance optimization performance through adaptive parameter control. Your task is to critically analyze the research paper [Success-History Based Parameter Adaptation for Differential Evolution](https://metahack.org/CEC2013-SHADE.pdf).\n",
    "- Summarize the key concepts and mechanisms introduced in SHADE.\n",
    "- Explain how SHADE differs from the standard DE algorithm.\n",
    "- Discuss the motivation behind these changes and the empirical improvements demonstrated in the study."
   ]
  },
  {
   "cell_type": "markdown",
   "metadata": {},
   "source": []
  },
  {
   "cell_type": "markdown",
   "metadata": {},
   "source": [
    "### Recommended Reading\n",
    "1. https://pablormier.github.io/2017/09/05/a-tutorial-on-differential-evolution-with-python/\n",
    "2. Das, Swagatam, and Ponnuthurai Nagaratnam Suganthan. [Differential evolution: A survey of the state-of-the-art.](https://i2pc.es/coss/Docencia/SignalProcessingReviews/Das2011.pdf)\n",
    "3. Tanabe, Ryoji, and Alex Fukunaga. [Success-history based parameter adaptation for differential evolution.](https://metahack.org/CEC2013-SHADE.pdf)"
   ]
  }
 ],
 "metadata": {
  "kernelspec": {
   "display_name": "Python 3",
   "language": "python",
   "name": "python3"
  },
  "language_info": {
   "codemirror_mode": {
    "name": "ipython",
    "version": 3
   },
   "file_extension": ".py",
   "mimetype": "text/x-python",
   "name": "python",
   "nbconvert_exporter": "python",
   "pygments_lexer": "ipython3",
   "version": "3.10.7"
  }
 },
 "nbformat": 4,
 "nbformat_minor": 2
}
