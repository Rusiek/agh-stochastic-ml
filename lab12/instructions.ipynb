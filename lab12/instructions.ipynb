{
 "cells": [
  {
   "cell_type": "markdown",
   "metadata": {},
   "source": [
    "## A Critical Look at Cuckoo Search\n",
    "\n",
    "This lab explores the common issue of seemingly new optimization algorithms that may not offer genuinely novel ideas. We'll first examine the original Cuckoo Search paper and then critically analyze it using the paper \"An analysis of why cuckoo search does not bring any novel ideas to optimization.\" This exercise builds on our previous discussions of evolutionary algorithms like Differential Evolution and the pitfalls of poor research in fields like Neuroevolution, focusing here on the problem of redundant concepts in optimization."
   ]
  },
  {
   "cell_type": "code",
   "execution_count": 6,
   "metadata": {},
   "outputs": [],
   "source": [
    "import numpy as np\n",
    "import matplotlib.pyplot as plt\n",
    "from matplotlib import animation\n",
    "from typing import Callable\n",
    "from dataclasses import dataclass\n",
    "from math import gamma"
   ]
  },
  {
   "cell_type": "markdown",
   "metadata": {},
   "source": [
    "### Optimization Problems\n",
    "\n",
    "This cell defines three common benchmark functions, Sphere, Rosenbrock, and Rastrigin, used to test optimization algorithms. We also used these functions earlier to evaluate Adam, Momentum, and CMA-ES."
   ]
  },
  {
   "cell_type": "code",
   "execution_count": 7,
   "metadata": {},
   "outputs": [],
   "source": [
    "def sphere(x: np.ndarray) -> float:\n",
    "    return float(np.sum(x**2))\n",
    "\n",
    "\n",
    "def rosenbrock(x: np.ndarray) -> float:\n",
    "    return float(np.sum(100.0 * (x[1:] - x[:-1] ** 2.0) ** 2.0 + (1.0 - x[:-1]) ** 2.0))\n",
    "\n",
    "\n",
    "def rastrigin(x: np.ndarray) -> float:\n",
    "    A: float = 10.0\n",
    "    return float(A * len(x) + np.sum(x**2 - A * np.cos(2 * np.pi * x)))\n",
    "\n",
    "BOUNDS = [(-5, 5), (-5, 5)]"
   ]
  },
  {
   "cell_type": "markdown",
   "metadata": {},
   "source": [
    "### Visualizing Search Dynamics"
   ]
  },
  {
   "cell_type": "code",
   "execution_count": null,
   "metadata": {},
   "outputs": [],
   "source": [
    "def animate_cs(\n",
    "    func: Callable[[np.ndarray], float],\n",
    "    history: list[np.ndarray],\n",
    "    bounds: list[tuple[float, float]] = BOUNDS,\n",
    "    frames: int | None = None,\n",
    "    filename: str = \"cs_animation.gif\",\n",
    ") -> None:\n",
    "    \"\"\"\n",
    "    Creates and saves a GIF showing how the CS population moves over generations.\n",
    "    \"\"\"\n",
    "    if frames is None:\n",
    "        frames = len(history)\n",
    "\n",
    "    assert len(bounds) == 2, \"This function only supports 2D visualization (expected 2 bounds).\"\n",
    "    x_bounds = (bounds[0][0], bounds[0][1])\n",
    "    y_bounds = (bounds[1][0], bounds[1][1])\n",
    "\n",
    "    x = np.linspace(x_bounds[0], x_bounds[1], 200)\n",
    "    y = np.linspace(y_bounds[0], y_bounds[1], 200)\n",
    "    X, Y = np.meshgrid(x, y)\n",
    "    coords = np.vstack([X.ravel(), Y.ravel()]).T\n",
    "    Z = np.array([func(pt) for pt in coords]).reshape(X.shape)\n",
    "\n",
    "    fig, ax = plt.subplots(figsize=(8, 6))\n",
    "    contour = ax.contourf(X, Y, Z, levels=20, cmap=\"viridis\")\n",
    "    fig.colorbar(contour, ax=ax)\n",
    "    \n",
    "    def init():\n",
    "        scatter = ax.scatter([], [], s=20, color=\"red\")\n",
    "        return (scatter,)\n",
    "    \n",
    "    def update(i: int):\n",
    "        ax.set_title(f\"Generation {i}\")\n",
    "        pop = history[i]\n",
    "        scatter = ax.scatter(pop[:, 0], pop[:, 1], s=20, color=\"red\")\n",
    "        return (scatter,)\n",
    "    \n",
    "    ax.set_xlim(x_bounds[0], x_bounds[1])\n",
    "    ax.set_ylim(y_bounds[0], y_bounds[1])\n",
    "    \n",
    "    anim = animation.FuncAnimation(\n",
    "        fig, update, init_func=init, frames=frames, interval=200, blit=True\n",
    "    )\n",
    "    \n",
    "    writer = animation.PillowWriter(fps=5)\n",
    "    anim.save(filename, writer=writer)\n",
    "    plt.close(fig)\n",
    "    print(f\"Animation saved to {filename}\")"
   ]
  },
  {
   "cell_type": "markdown",
   "metadata": {},
   "source": [
    "### Exercise 1\n",
    "\n",
    "Read [Cuckoo Search via Levy Flights](https://arxiv.org/pdf/1003.1594) with particular attention to Sections 2, 3, and 4. The primary focus for this exercise is Figure 1, which outlines the core pseudocode of the algorithm.\n",
    "\n",
    "Your task is to implement the Cuckoo Search algorithm, using Figure 1 as your main reference. As the pseudocode is relatively high-level and lacks \n",
    "implementation details, you are encouraged to adopt a straightforward approach in your implementation.\n",
    "\n",
    "**Action Item:** Document any ambiguities or unclear aspects you encounter in the algorithm description or pseudocode.\n",
    "\n",
    "> Note: If you find the implementation too challenging or feel stuck, you may proceed directly to Exercise 2."
   ]
  },
  {
   "cell_type": "code",
   "execution_count": 8,
   "metadata": {},
   "outputs": [],
   "source": [
    "@dataclass\n",
    "class CSResult:\n",
    "    best_vector: np.ndarray\n",
    "    best_value: float\n",
    "    history: list[np.ndarray]  # History of populations for animation\n",
    "\n",
    "\n",
    "class LevyFlight:\n",
    "    def __init__(self, beta: float = 1.5):\n",
    "        self.beta = beta\n",
    "\n",
    "    def __call__(self, size: int) -> np.ndarray:\n",
    "        sigma_u = (\n",
    "            gamma(1 + self.beta)\n",
    "            * np.sin(np.pi * self.beta / 2)\n",
    "            / (gamma((1 + self.beta) / 2) * self.beta * 2 ** ((self.beta - 1) / 2))\n",
    "        ) ** (1 / self.beta)\n",
    "        sigma_v = 1\n",
    "        u = np.random.normal(0, sigma_u, size)\n",
    "        v = np.random.normal(0, sigma_v, size)\n",
    "        step = u / np.abs(v) ** (1 / self.beta)\n",
    "        return step\n",
    "\n",
    "\n",
    "def cuckoo_search(\n",
    "    func: Callable[[np.ndarray], float],\n",
    "    bounds: list[tuple[float, float]] = BOUNDS,\n",
    "    pop_size: int = 50,\n",
    "    alpha: float = 1.0,\n",
    "    beta: float = 1.5,\n",
    "    p: float = 0.25,\n",
    "    max_gen: int = 100,\n",
    ") -> CSResult:\n",
    "    \"\"\"\n",
    "    Implements the Cuckoo Search algorithm for global optimization.\n",
    "\n",
    "    Parameters:\n",
    "        func: Objective function to minimize. Takes a numpy array and returns a float.\n",
    "        bounds: list of (min, max) pairs for each dimension.\n",
    "        pop_size: Number of individuals in the population.\n",
    "        alpha: Step-size scaling factor controlling the overall scale of the Lévy flights.\n",
    "        beta: Exponent parameter for the Lévy distribution (typically in (1, 3]) that\n",
    "            influences the heavy-tailed step-length distribution.\n",
    "        p: Probability (in [0, 1]) that a host bird discovers an alien egg and abandons\n",
    "            the corresponding nest—i.e., fraction of worse nests to be replaced each generation.\n",
    "        max_gen: Maximum number of generations to evolve.\n",
    "    \"\"\"\n",
    "    raise NotImplementedError(\"Not implemented\")\n",
    "    dimensions = len(bounds)\n",
    "    lower_bounds = np.array([b[0] for b in bounds])\n",
    "    upper_bounds = np.array([b[1] for b in bounds])\n",
    "\n",
    "    # --- TODO: Exercise 1 - Initialization ---\n",
    "    # Initialize the population: Create pop_size individuals.\n",
    "    # Each individual is a vector of 'dimensions' length.\n",
    "    # Use uniform distribution to sample the initial population.\n",
    "    # --- End Exercise 1 ---\n",
    "\n",
    "    for generation in range(max_gen):\n",
    "        ..."
   ]
  },
  {
   "cell_type": "markdown",
   "metadata": {},
   "source": [
    "### Test implemented CS"
   ]
  },
  {
   "cell_type": "code",
   "execution_count": null,
   "metadata": {},
   "outputs": [],
   "source": [
    "result = cuckoo_search(sphere, bounds=BOUNDS, pop_size=50)"
   ]
  },
  {
   "cell_type": "markdown",
   "metadata": {},
   "source": [
    "### Experiments\n",
    "\n",
    "Run CS on all three problems: Sphere, Rosenbrock and Rastrigin. For each problem:\n",
    "- Visualize the population dynamics over time to illustrate how the search space is explored and exploited."
   ]
  },
  {
   "cell_type": "code",
   "execution_count": null,
   "metadata": {},
   "outputs": [],
   "source": []
  },
  {
   "cell_type": "markdown",
   "metadata": {},
   "source": [
    "### Exercise 2\n",
    "\n",
    "Read [An analysis of why cuckoo search does not bring any novel ideas to optimization](https://www.sciencedirect.com/science/article/pii/S0305054822000442). Focus particularly on Sections 2 and 3. Section 2.3 provides a detailed description of the implemented Cuckoo Search algorithm. Carefully analyze and compare it with your own, highlighting any differences in assumptions, parameter settings, or algorithmic structure."
   ]
  },
  {
   "cell_type": "markdown",
   "metadata": {},
   "source": [
    " "
   ]
  },
  {
   "cell_type": "markdown",
   "metadata": {},
   "source": [
    "### Exercise 3\n",
    "\n",
    "Read the Introduction of “An analysis of why cuckoo search does not bring any novel ideas to optimization.” Identify and outline three criteria proposed by the authors for evaluating the underlying metaphor of the algorithm. Critically reflect on these criteria, do you find them appropriate and sufficient? Can you suggest any additional criteria or alternative perspectives that might enrich the evaluation?"
   ]
  },
  {
   "cell_type": "markdown",
   "metadata": {},
   "source": []
  },
  {
   "cell_type": "markdown",
   "metadata": {},
   "source": [
    "### Exercise 4\n",
    "\n",
    "Read Section 4 of “An analysis of why cuckoo search does not bring any novel ideas to optimization.” Explain the main criticisms they raise against the Cuckoo Search algorithm. What fundamental issues do they identify, and how do these undermine the algorithm's novelty?"
   ]
  },
  {
   "cell_type": "markdown",
   "metadata": {},
   "source": []
  },
  {
   "cell_type": "markdown",
   "metadata": {},
   "source": [
    "### Exercise 5\n",
    "\n",
    "Analyze Figures 5 and 8 from [Large-scale Benchmarking of Metaphor-based Optimization Heuristics](https://arxiv.org/pdf/2402.09800). In these figures, Cuckoo Search is denoted as CS. Evaluate its performance relative to the CMA-ES variant (bipop) and Differential Evolution (DE). How does CS compare to these well-established algorithms in terms of optimization performance? Furthermore, critically consider whether performance alone is a sufficient criterion for evaluating optimization algorithms. What other factors should be taken into account?"
   ]
  },
  {
   "cell_type": "markdown",
   "metadata": {},
   "source": []
  }
 ],
 "metadata": {
  "kernelspec": {
   "display_name": "Python 3",
   "language": "python",
   "name": "python3"
  },
  "language_info": {
   "codemirror_mode": {
    "name": "ipython",
    "version": 3
   },
   "file_extension": ".py",
   "mimetype": "text/x-python",
   "name": "python",
   "nbconvert_exporter": "python",
   "pygments_lexer": "ipython3",
   "version": "3.10.7"
  }
 },
 "nbformat": 4,
 "nbformat_minor": 2
}
