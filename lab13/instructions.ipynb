{
 "cells": [
  {
   "cell_type": "markdown",
   "metadata": {},
   "source": [
    "# Multiobjective Portfolio Optimization\n",
    "\n",
    "**Objective:** This notebook demonstrates how to use multiobjective optimization techniques to find optimal asset allocations for a portfolio. We will be using historical stock price data and the `pymoo` library to find a set of Pareto-optimal portfolios."
   ]
  },
  {
   "cell_type": "markdown",
   "metadata": {},
   "source": [
    "### 0. Multiobjective Optimization\n",
    "\n",
    "Read [Mario meets Pareto](https://www.mayerowitz.io/blog/mario-meets-pareto) to understand multiobjective optimization."
   ]
  },
  {
   "cell_type": "markdown",
   "metadata": {},
   "source": [
    "### 1. Setup and Data Loading\n",
    "\n",
    "First, install `pymoo`"
   ]
  },
  {
   "cell_type": "code",
   "execution_count": null,
   "metadata": {},
   "outputs": [],
   "source": [
    "! pip install pymoo"
   ]
  },
  {
   "cell_type": "markdown",
   "metadata": {},
   "source": [
    "Import the necessary libraries:"
   ]
  },
  {
   "cell_type": "code",
   "execution_count": 17,
   "metadata": {},
   "outputs": [],
   "source": [
    "import pandas as pd\n",
    "import numpy as np\n",
    "from pymoo.util.remote import Remote\n",
    "import matplotlib.pyplot as plt"
   ]
  },
  {
   "cell_type": "markdown",
   "metadata": {},
   "source": [
    "Next, configure `Plotly` as the default plotting backend for `Pandas`:"
   ]
  },
  {
   "cell_type": "code",
   "execution_count": 13,
   "metadata": {},
   "outputs": [],
   "source": [
    "pd.options.plotting.backend = \"plotly\""
   ]
  },
  {
   "cell_type": "markdown",
   "metadata": {},
   "source": [
    "Download the example dataset provided by pymoo:"
   ]
  },
  {
   "cell_type": "code",
   "execution_count": null,
   "metadata": {},
   "outputs": [],
   "source": [
    "file = Remote.get_instance().load(\"examples\", \"portfolio_allocation.csv\", to=None)\n",
    "df = pd.read_csv(file, parse_dates=True, index_col=\"date\")"
   ]
  },
  {
   "cell_type": "markdown",
   "metadata": {},
   "source": [
    "The dataset portfolio_allocation.csv contains historical adjusted closing prices for multiple tickers, indexed by date. We will refer to df.columns (e.g., GOOG, AAPL) as the asset tickers in our portfolio."
   ]
  },
  {
   "cell_type": "markdown",
   "metadata": {},
   "source": [
    "### 2. Initial Data Visualization\n",
    "\n",
    "Visualize the price series for all tickers:"
   ]
  },
  {
   "cell_type": "code",
   "execution_count": null,
   "metadata": {},
   "outputs": [],
   "source": [
    "df.plot()"
   ]
  },
  {
   "cell_type": "markdown",
   "metadata": {},
   "source": [
    "*Note:* The index is business days (trading days only). There are no weekend rows."
   ]
  },
  {
   "cell_type": "code",
   "execution_count": null,
   "metadata": {},
   "outputs": [],
   "source": [
    "df.head()"
   ]
  },
  {
   "cell_type": "markdown",
   "metadata": {},
   "source": [
    "This plot shows the historical price evolution of each stock. Note that raw prices exhibit non-stationary behavior, so we typically work with returns rather than prices."
   ]
  },
  {
   "cell_type": "markdown",
   "metadata": {},
   "source": [
    "Calculate daily returns (percentage change) and drop any rows where all values are missing:"
   ]
  },
  {
   "cell_type": "code",
   "execution_count": null,
   "metadata": {},
   "outputs": [],
   "source": [
    "returns = df.pct_change().dropna(how=\"all\")\n",
    "returns.plot()"
   ]
  },
  {
   "cell_type": "markdown",
   "metadata": {},
   "source": [
    "Returns appear more \"stationary\" (they resemble random noise), which is why they are used for risk and return calculations."
   ]
  },
  {
   "cell_type": "markdown",
   "metadata": {},
   "source": [
    "### 3. Estimating Expected Investment Returns"
   ]
  },
  {
   "cell_type": "markdown",
   "metadata": {},
   "source": [
    "We compute the annualized expected return $\\mu_i$ for each asset $i$ using geometric (compound) returns:"
   ]
  },
  {
   "cell_type": "code",
   "execution_count": 15,
   "metadata": {},
   "outputs": [],
   "source": [
    "mu = (1 + returns).prod() ** (252 / returns.count()) - 1"
   ]
  },
  {
   "cell_type": "markdown",
   "metadata": {},
   "source": [
    "**Explanation of the formula:**\n",
    "1. $(1 + r_t)$ for each return $r_t$ gives the daily growth factor.\n",
    "2. $\\prod_{t=1}^{T}(1 + r_t)$ computes the total growth factor over $T$ trading days.\n",
    "3. Dividing the exponent by $T$ and multiplying by 252 (approximate trading days per year, we need to take weekends into account) annualizes this compound growth:\n",
    "$$\\mu_i = \\left(\\prod_{t=1}^{T}(1 + r_{i,t})\\right)^{\\frac{252}{T}} - 1$$\n",
    "4. Subtracting 1 converts the compound multiplier back to a percentage return."
   ]
  },
  {
   "cell_type": "markdown",
   "metadata": {},
   "source": [
    "Plot the annualized returns for each asset:"
   ]
  },
  {
   "cell_type": "code",
   "execution_count": null,
   "metadata": {},
   "outputs": [],
   "source": [
    "labels = df.columns\n",
    "\n",
    "fig, ax = plt.subplots(figsize=(10, 5))\n",
    "k = np.arange(len(mu))\n",
    "ax.bar(k, mu)\n",
    "ax.set_xticks(k, labels, rotation = 90)\n",
    "plt.show()"
   ]
  },
  {
   "cell_type": "markdown",
   "metadata": {},
   "source": [
    "### 4. Estimating Risk and Correlation"
   ]
  },
  {
   "cell_type": "markdown",
   "metadata": {},
   "source": [
    "Calculate the annualized covariance matrix $\\Sigma$ of returns:"
   ]
  },
  {
   "cell_type": "code",
   "execution_count": 25,
   "metadata": {},
   "outputs": [],
   "source": [
    "cov = returns.cov() * 252 # Covariance scaled to annual"
   ]
  },
  {
   "cell_type": "markdown",
   "metadata": {},
   "source": [
    "Compute and visualize the correlation between asset returns:"
   ]
  },
  {
   "cell_type": "code",
   "execution_count": null,
   "metadata": {},
   "outputs": [],
   "source": [
    "f = plt.figure(figsize=(10, 10))\n",
    "plt.matshow(returns.corr(), fignum=f.number)\n",
    "plt.xticks(k, labels, fontsize=12, rotation=90)\n",
    "plt.yticks(k, labels, fontsize=12)\n",
    "cb = plt.colorbar()\n",
    "cb.ax.tick_params(labelsize=14)\n",
    "plt.title('Correlation Matrix', fontsize=16)"
   ]
  },
  {
   "cell_type": "markdown",
   "metadata": {},
   "source": [
    "The covariance tells us how two assets co-vary (in units of variance). The correlation is simply the covariance standardized by the product of standard deviations. Here, we plot the correlation so that values lie between −1 and +1, making it easier to spot diversification benefits."
   ]
  },
  {
   "cell_type": "markdown",
   "metadata": {},
   "source": [
    "A lower correlation between two assets suggests they provide better diversification benefits. You can inspect this matrix to identify pairs of assets operating in different industries (e.g., technology vs. consumer staples) with low correlations."
   ]
  },
  {
   "cell_type": "code",
   "execution_count": null,
   "metadata": {},
   "outputs": [],
   "source": [
    "mu, cov = mu.to_numpy(), cov.to_numpy()"
   ]
  },
  {
   "cell_type": "markdown",
   "metadata": {},
   "source": [
    "### 5. Defining the Optimization Problem\n",
    "\n",
    "We construct a multiobjective optimization problem with two objectives:\n",
    "1. Minimize portfolio risk.\n",
    "2. Maximize portfolio return (by minimizing negative return)."
   ]
  },
  {
   "cell_type": "markdown",
   "metadata": {},
   "source": [
    "### Mathematical Formulation of the Portfolio Problem\n",
    "Consider a portfolio of $n$ assets. We denote:\n",
    "\n",
    "- $x = (x_1, x_2, \\ldots, x_n)^\\top$ as the vector of portfolio weights, where $x_i$ is the fraction of total capital invested in asset $i$.\n",
    "- $\\mu = (\\mu_1, \\mu_2, \\ldots, \\mu_n)^\\top$ as the vector of annualized expected returns for each asset.\n",
    "- $\\Sigma \\in \\mathbb{R}^{n \\times n}$ as the annualized covariance matrix of asset returns.\n",
    "- $r_f$ as the annual risk-free rate (default $r_f = 0.02$).\n",
    "\n",
    "### Objective Functions\n",
    "\n",
    "We formulate a multi-objective problem with two objectives:\n",
    "\n",
    "1. **Minimize portfolio risk (annualized volatility)**  \n",
    "   Let\n",
    "   $$f_1(x) \\;=\\; \\underbrace{\\sqrt{x^\\top\\,\\Sigma\\,x}}_{\\text{portfolio standard deviation}}.$$\n",
    "   This quantity is the annualized standard deviation of the portfolio's returns.\n",
    "\n",
    "2. **Maximize portfolio return**  \n",
    "   Equivalently, minimize the negative of the expected return:\n",
    "   $$f_2(x) \\;=\\; -\\,\\underbrace{\\bigl(\\mu^\\top\\,x\\bigr)}_{\\text{expected annual return}}.$$\n",
    "   Since most multi-objective solvers assume a minimization format, we define the second objective as $-\\,\\mu^\\top x$.\n",
    "\n",
    "Hence, the multi-objective vector is\n",
    "\n",
    "$$F(x) \\;=\\; \\bigl[f_1(x),\\,f_2(x)\\bigr]\n",
    "\\;=\\;\\Bigl[\\sqrt{x^\\top\\Sigma\\,x},\\;-\\mu^\\top x\\Bigr].$$\n",
    "\n",
    "### Constraints\n",
    "\n",
    "1. **Budget Constraint (weights sum to 1):**  \n",
    "   $$\\sum_{i=1}^{n} x_i = 1.$$\n",
    "\n",
    "2. **Box Constraints (no short-selling, no leverage):**  \n",
    "   $$0 \\;\\leq\\; x_i \\;\\leq\\; 1, \n",
    "   \\quad \n",
    "   \\forall\\,i = 1,2,\\ldots,n.$$\n",
    "\n",
    "3. **Practical Thresholding (small-weight trimming):**  \n",
    "   In practice, any $x_i < 0.001$ (i.e., below 0.1% of the portfolio) is set to zero and then the remaining weights are renormalized to sum to 1. Mathematically, this means:\n",
    "   $$\\tilde{x}_i =\n",
    "   \\begin{cases}\n",
    "   0, & x_i < 10^{-3},\\\\\n",
    "   x_i, & x_i \\geq 10^{-3},\n",
    "   \\end{cases}\n",
    "   \\quad\n",
    "   \\text{then renormalize } \\tilde{x} \\text{ so that } \\sum_{i} \\tilde{x}_i = 1.$$\n",
    "   This ensures that very small positions are eliminated and the budget constraint is restored.\n",
    "\n",
    "### Full Optimization Problem\n",
    "\n",
    "Putting everything together, we can write:\n",
    "\n",
    "$$\\begin{aligned}\n",
    "\\text{Find } x \\in \\mathbb{R}^n \\quad &\\text{that minimizes } \n",
    "\\;F(x) = \\Bigl[\\sqrt{x^\\top \\Sigma\\,x},\\, -\\,\\mu^\\top x\\Bigr],\\\\\n",
    "\\text{subject to:}\n",
    "\\quad\n",
    "&\\sum_{i=1}^n x_i = 1,\\\\\n",
    "&0 \\;\\leq\\; x_i \\;\\leq\\; 1, \\quad i = 1,\\ldots,n.\n",
    "\\end{aligned}$$\n",
    "\n",
    "After each candidate $x$ is generated by the optimizer, a repair step enforces:\n",
    "\n",
    "1. $x_i \\leftarrow 0$ for all $i$ such that $x_i < 10^{-3}$.\n",
    "2. $x \\leftarrow \\displaystyle \\frac{x}{\\sum_{i=1}^n x_i}$ to restore $\\sum_{i} x_i = 1$."
   ]
  },
  {
   "cell_type": "code",
   "execution_count": 3,
   "metadata": {},
   "outputs": [],
   "source": [
    "from pymoo.core.problem import ElementwiseProblem\n",
    "import numpy as np\n",
    "from typing import Any\n",
    "\n",
    "class PortfolioProblem(ElementwiseProblem):\n",
    "    \"\"\"\n",
    "    Portfolio optimization problem for multi-objective optimization.\n",
    "    \n",
    "    This class defines a portfolio optimization problem that minimizes risk (volatility)\n",
    "    while maximizing expected return.\n",
    "    \"\"\"\n",
    "\n",
    "    def __init__(self, mu: np.ndarray, cov: np.ndarray, **kwargs: Any) -> None:\n",
    "        \"\"\"\n",
    "        Initialize the portfolio optimization problem.\n",
    "        \n",
    "        Args:\n",
    "            mu: Expected returns for each asset (1D array)\n",
    "            cov: Covariance matrix of asset returns (2D array)\n",
    "            **kwargs: Additional arguments passed to parent class\n",
    "        \"\"\"\n",
    "        super().__init__(n_var=len(df.columns), n_obj=2, xl=0.0, xu=1.0, **kwargs)\n",
    "        self.mu = mu\n",
    "        self.cov = cov\n",
    "\n",
    "    def _evaluate(self, x: np.ndarray, out: dict[str, Any], *args: Any, **kwargs: Any) -> None:\n",
    "        \"\"\"\n",
    "        Evaluate portfolio performance for given weights.\n",
    "        \n",
    "        Args:\n",
    "            x: Portfolio weights (must sum to 1)\n",
    "            out: Output dictionary to store objective values and metrics\n",
    "            *args: Additional positional arguments\n",
    "            **kwargs: Additional keyword arguments\n",
    "        \"\"\"\n",
    "        # TODO: Implement F function\n",
    "        # Note: We'll handle constraints in the repair method. Do not worry about constraints here.\n",
    "        raise NotImplementedError(\"Implement this method!\")\n",
    "        # Note: This method do not return anything.\n",
    "        # Instead it should store the objectives in out[\"F\"]\n",
    "        out[\"F\"] = [f1, f2]"
   ]
  },
  {
   "cell_type": "markdown",
   "metadata": {},
   "source": [
    "### Handling Constraints\n",
    "\n",
    "We handle constraints by applying repair function that repairs solutions that are not feasible."
   ]
  },
  {
   "cell_type": "code",
   "execution_count": 4,
   "metadata": {},
   "outputs": [],
   "source": [
    "from pymoo.core.repair import Repair\n",
    "\n",
    "\n",
    "class PortfolioRepair(Repair):\n",
    "    \"\"\"\n",
    "    Portfolio repair mechanism for multi-objective optimization.\n",
    "\n",
    "    This repair operator ensures that portfolio weights satisfy practical constraints:\n",
    "    1. Portfolio weights sum to 100% (normalized to 1.0)\n",
    "    2. Very small weights (< 0.1%) are set to zero to avoid impractical allocations\n",
    "\n",
    "    The rationale is that investment weights must total 100% and very small fractions\n",
    "    of investment don't make practical sense in real portfolio management.\n",
    "    \"\"\"\n",
    "\n",
    "    def _do(\n",
    "        self, problem: ElementwiseProblem, X: np.ndarray, **kwargs: Any\n",
    "    ) -> np.ndarray:\n",
    "        \"\"\"\n",
    "        Repair portfolio weights to satisfy normalization and minimum threshold constraints.\n",
    "\n",
    "        Args:\n",
    "            problem: The optimization problem instance (unused but required by interface)\n",
    "            X: Portfolio weight matrix where each row represents a portfolio solution\n",
    "            **kwargs: Additional keyword arguments\n",
    "\n",
    "        Returns:\n",
    "            Repaired portfolio weights matrix with proper normalization and thresholding\n",
    "        \"\"\"\n",
    "        # X is a 2D array: each row is a candidate weight vector\n",
    "        # For each row:\n",
    "        #   a) Set weights < 0.001 to zero\n",
    "        #   b) Make sure that sum(weights) == 1.0\n",
    "        #   c) Return the repaired X matrix\n",
    "        raise NotImplementedError(\"Implement this method!\")"
   ]
  },
  {
   "cell_type": "markdown",
   "metadata": {},
   "source": [
    "### 6. Running the Multiobjective Optimization\n",
    "\n",
    "We use the SMS-EMOA algorithm from pymoo to obtain the Pareto front of optimal trade-offs between risk and return."
   ]
  },
  {
   "cell_type": "code",
   "execution_count": 5,
   "metadata": {},
   "outputs": [],
   "source": [
    "from pymoo.algorithms.moo.sms import SMSEMOA\n",
    "from pymoo.optimize import minimize\n",
    "\n",
    "problem = PortfolioProblem(mu, cov)\n",
    "\n",
    "algorithm = SMSEMOA(repair=PortfolioRepair())\n",
    "\n",
    "res = minimize(problem, algorithm, seed=1, verbose=False)"
   ]
  },
  {
   "cell_type": "markdown",
   "metadata": {},
   "source": [
    "Upon convergence, `res.opt.get(\"X\", \"F\")` returns:\n",
    "- X: Pareto-optimal weight matrices (each row is a portfolio).\n",
    "- F: Corresponding objective values ([risk, –return])."
   ]
  },
  {
   "cell_type": "code",
   "execution_count": null,
   "metadata": {},
   "outputs": [],
   "source": [
    "X, F = res.opt.get(\"X\", \"F\")\n",
    "F = F * [1, -1]\n",
    "\n",
    "plt.scatter(F[:, 0], F[:, 1], facecolor=\"none\", edgecolors=\"blue\", alpha=0.5, label=\"Pareto-Optimal Portfolio\")\n",
    "plt.scatter(cov.diagonal() ** 0.5, mu, facecolor=\"none\", edgecolors=\"black\", s=30, label=\"Asset\")\n",
    "plt.legend()\n",
    "plt.xlabel(\"expected volatility\")\n",
    "plt.ylabel(\"expected return\")\n",
    "plt.show()"
   ]
  },
  {
   "cell_type": "markdown",
   "metadata": {},
   "source": [
    "In this figure, each blue point is a portfolio on the Pareto front. The black points are the individual assets (their own risk–return coordinates). Notice that some portfolios lie ‘above’ all single assets (they achieve higher return for the same risk)."
   ]
  },
  {
   "cell_type": "markdown",
   "metadata": {},
   "source": [
    "### Exercise 1\n",
    "\n",
    "Visualize `X` using imshow. Analyze the visualization to determine which tickers are assigned non-zero weights. Identify the industries these companies belong to, and determine which company has the highest weight."
   ]
  },
  {
   "cell_type": "markdown",
   "metadata": {},
   "source": [
    "### Exercise 2 \n",
    "We want  to choose a single portfolio from the Pareto front. For this purpose we can use another metric -- Sharpe ratio:\n",
    "- Compute Sharpe ratio for each Pareto portfolio:  \n",
    "  $$\\text{Sharpe}_j = \\frac{\\mu^\\top x^{(j)} - r_f}{\\sqrt{x^{(j)T} \\Sigma x^{(j)}}}$$  \n",
    "  Where $r_f = 0.02$.  \n",
    "- Plot Sharpe vs. risk or Sharpe vs. return, and identify the portfolio that maximizes Sharpe.  "
   ]
  },
  {
   "cell_type": "markdown",
   "metadata": {},
   "source": [
    "### Exercise 3\n",
    "\n",
    "In real-world portfolio management, you often face constraints beyond the basic budget and no short-selling rules. A common constraint is limiting the maximum exposure to any single asset to prevent over concentration.\n",
    "\n",
    "Task:\n",
    "1. Modify the PortfolioProblem to include an additional constraint: no single asset can account for more than 20% of the total portfolio weight.\n",
    "2. Re-run the optimization with this new constraint.\n",
    "3. Plot the new Pareto front and compare it with the original one. How does this constraint affect the available risk-return trade-offs?"
   ]
  }
 ],
 "metadata": {
  "kernelspec": {
   "display_name": "Python 3",
   "language": "python",
   "name": "python3"
  },
  "language_info": {
   "codemirror_mode": {
    "name": "ipython",
    "version": 3
   },
   "file_extension": ".py",
   "mimetype": "text/x-python",
   "name": "python",
   "nbconvert_exporter": "python",
   "pygments_lexer": "ipython3",
   "version": "3.10.7"
  }
 },
 "nbformat": 4,
 "nbformat_minor": 2
}
